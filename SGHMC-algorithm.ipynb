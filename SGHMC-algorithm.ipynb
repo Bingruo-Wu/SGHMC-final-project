{
 "cells": [
  {
   "cell_type": "code",
   "execution_count": 93,
   "metadata": {},
   "outputs": [],
   "source": [
    "import numpy as np\n",
    "import pandas as pd\n",
    "import scipy.linalg as la\n",
    "import seaborn as sns\n",
    "import matplotlib.pyplot as plt"
   ]
  },
  {
   "cell_type": "code",
   "execution_count": 150,
   "metadata": {},
   "outputs": [],
   "source": [
    "def data_batch(data, batch_size):\n",
    "    n = data.shape[0]\n",
    "    p = data.shape[1]\n",
    "    if n % batch_size !=0:\n",
    "        n = (n // batch_size)*batch_size\n",
    "    idx = np.arange(n)\n",
    "    np.random.shuffle(idx)\n",
    "    n_batch = n//batch_size\n",
    "    data = data[idx].reshape(batch_size, p, n_batch)\n",
    "    return(data, n_batch)\n",
    "\n",
    "def is_pos_def(A):\n",
    "    '''function to check if matrix is positive definite'''\n",
    "    return np.all(np.linalg.eigvals(A) > 0)"
   ]
  },
  {
   "cell_type": "code",
   "execution_count": 151,
   "metadata": {},
   "outputs": [],
   "source": [
    "def sghmc(gradU, eps, C, Minv, theta_0, V_hat, niter, data, batch_size):\n",
    "    \n",
    "    '''Define SGHMC as dscribed in\n",
    "    Stochastic Gradient Hamilton Monte Carlo, ICML 2014\n",
    "    Tianqi Chen, Emily B. Fox, Carlos Guestrin.\n",
    "    \n",
    "    n: number of observations in data\n",
    "    p: dimension of parameters\n",
    "    \n",
    "    Inputs:\n",
    "        gradU: function with parameter(theta, X, y), gradient of U\n",
    "        \n",
    "        eps: learning rate\n",
    "        \n",
    "        C: friction matrix, with shape (p,p)\n",
    "        \n",
    "        Minv: Mass matrix, with shape (p,p)\n",
    "        \n",
    "        theta_0: initial value for sampling\n",
    "        \n",
    "        V_hat: estimated covariance matrix of stochastic gradient noise\n",
    "        \n",
    "        niter: number of samples to generate\n",
    "        \n",
    "        batch_size: size of a minibatch in an iteration\n",
    "        \n",
    "    \n",
    "    Output:\n",
    "        theta_samp: np.array sampled thetas\n",
    "    '''\n",
    "    \n",
    "    ###Initialization and condition check###\n",
    "    \n",
    "    p = len(theta_0)\n",
    "    n = data.shape[0]\n",
    "    \n",
    "    theta_samp = np.zeros((p, niter*(n//batch_size)))\n",
    "    \n",
    "    B_hat = 0.5*eps*V_hat\n",
    "    sqrt_noise = la.sqrtm(2*(C-B_hat)*eps)\n",
    "    \n",
    "    theta = theta_0\n",
    "    sqrtM = la.sqrtm(la.inv(Minv))\n",
    "    r = np.random.multivariate_normal(np.zeros(p), sqrtM).reshape(p, -1)\n",
    "    \n",
    "    j = 0\n",
    "    dat_batch, nbatches = data_batch(data, batch_size)\n",
    "    for i in range(niter):\n",
    "        \n",
    "        r = np.random.multivariate_normal(np.zeros(p), sqrtM).reshape(p, -1)\n",
    "        \n",
    "        for batch in range(nbatches):\n",
    "            theta = theta + (eps*Minv@r).ravel()\n",
    "            gradU_batch = gradU(theta, dat_batch[:,:, batch], n, batch_size).reshape(p, -1)\n",
    "            r = r-eps*gradU_batch - eps*C@Minv@r \\\n",
    "                + np.random.multivariate_normal(np.zeros(p), sqrt_noise).reshape(p, -1)\n",
    "            \n",
    "            theta_samp[:,j] = theta\n",
    "            j = j+1\n",
    "            \n",
    "    return theta_samp"
   ]
  },
  {
   "cell_type": "markdown",
   "metadata": {},
   "source": [
    "## Example 1 on paper pg6 (fig 1)\n",
    "\n",
    "$U(\\theta) = 2\\theta^2+\\theta^4$  \n",
    "$\\nabla U(\\theta) = -4\\theta + 4\\theta^3$  \n",
    "$\\nabla\\tilde{U}(\\theta) = \\nabla U(\\theta)+\\mathcal{N}(0,4) = -4\\theta + 4\\theta^3 + \\mathcal{N}(0,4)$ "
   ]
  },
  {
   "cell_type": "code",
   "execution_count": 85,
   "metadata": {},
   "outputs": [],
   "source": [
    "np.random.seed(123)\n",
    "n = 100\n",
    "x = np.zeros((100, 1))\n",
    "theta_0 = np.array([0.0])\n",
    "C = np.eye(1)*2*eps\n",
    "p = theta_0.shape[0]\n",
    "eps = 0.1\n",
    "eta = 0.001*np.eye(p)\n",
    "alpha = 0.01*np.eye(p)\n",
    "V = np.eye(1)*4\n",
    "batch_size = 100\n",
    "niter = 2000"
   ]
  },
  {
   "cell_type": "code",
   "execution_count": 80,
   "metadata": {},
   "outputs": [],
   "source": [
    "def gradU_noise(theta, x, n, batch_size):\n",
    "    '''noisy gradient from paper fig1'''\n",
    "    return -4*theta + 4*theta**3 + np.random.normal(0,2)"
   ]
  },
  {
   "cell_type": "code",
   "execution_count": 86,
   "metadata": {},
   "outputs": [
    {
     "data": {
      "text/plain": [
       "array([[ 0.09973454,  0.19205532,  0.26668444, ..., -0.35150152,\n",
       "        -0.22728494, -0.08524734]])"
      ]
     },
     "execution_count": 86,
     "metadata": {},
     "output_type": "execute_result"
    }
   ],
   "source": [
    "sim = sghmc(gradU_noise, eps, C, np.eye(p), theta_0, V, 2000, x, 1)\n",
    "sim"
   ]
  },
  {
   "cell_type": "code",
   "execution_count": 87,
   "metadata": {},
   "outputs": [
    {
     "data": {
      "text/plain": [
       "<matplotlib.axes._subplots.AxesSubplot at 0x7fd372e6bf98>"
      ]
     },
     "execution_count": 87,
     "metadata": {},
     "output_type": "execute_result"
    },
    {
     "data": {
      "image/png": "[encoded data removed]",
      "text/plain": [
       "<Figure size 432x288 with 1 Axes>"
      ]
     },
     "metadata": {},
     "output_type": "display_data"
    }
   ],
   "source": [
    "sns.kdeplot(sim[0,:])"
   ]
  },
  {
   "cell_type": "markdown",
   "metadata": {},
   "source": [
    "## Mixture of Normals\n",
    "\n",
    "sampling model: $X \\sim \\frac{1}{2}\\mathcal{N}(\\mu_1, 1) + \\frac{1}{2}\\mathcal{N}(\\mu_2, 1)$  \n",
    "\n",
    "prior: $\\mu_1, \\mu_2 \\sim \\mathcal{N}(0, 10)$"
   ]
  },
  {
   "cell_type": "code",
   "execution_count": 101,
   "metadata": {},
   "outputs": [
    {
     "name": "stdout",
     "output_type": "stream",
     "text": [
      "Collecting autograd\n",
      "  Downloading autograd-1.3.tar.gz (38 kB)\n",
      "Requirement already satisfied: numpy>=1.12 in /opt/conda/lib/python3.6/site-packages (from autograd) (1.18.1)\n",
      "Requirement already satisfied: future>=0.15.2 in /opt/conda/lib/python3.6/site-packages (from autograd) (0.18.2)\n",
      "Building wheels for collected packages: autograd\n",
      "  Building wheel for autograd (setup.py) ... \u001b[?25ldone\n",
      "\u001b[?25h  Created wheel for autograd: filename=autograd-1.3-py3-none-any.whl size=48961 sha256=838ef1a398c60c5c3e8345f30643c0f0aa4260d40065952731b1c61ea62acd69\n",
      "  Stored in directory: /home/jovyan/.cache/pip/wheels/b2/a5/3c/929b91003a3b75a175ccba7cef35200a1890cdb46903f18072\n",
      "Successfully built autograd\n",
      "Installing collected packages: autograd\n",
      "Successfully installed autograd-1.3\n"
     ]
    }
   ],
   "source": [
    "import sys\n",
    "!{sys.executable} -m pip install autograd #install package to calculate gradient"
   ]
  },
  {
   "cell_type": "code",
   "execution_count": 125,
   "metadata": {},
   "outputs": [],
   "source": [
    "from autograd import jacobian\n",
    "import autograd.numpy as np"
   ]
  },
  {
   "cell_type": "code",
   "execution_count": 99,
   "metadata": {},
   "outputs": [],
   "source": [
    "mu = np.array([-3,3]).reshape(2,1)"
   ]
  },
  {
   "cell_type": "code",
   "execution_count": 146,
   "metadata": {},
   "outputs": [],
   "source": [
    "def lprior(theta):\n",
    "    return (-1/(2*10))*theta.T@theta\n",
    "\n",
    "def ldatap(theta, x):\n",
    "    return np.log(0.5 * np.exp(-0.5*(theta[0]-x)**2) + 0.5* np.exp(-0.5*(theta[1]-x)**2))\n",
    "\n",
    "def U(theta, x, n, batch_size):\n",
    "    return -lprior(theta) - (n/batch_size)*sum(ldatap(theta, x))\n",
    "\n",
    "gradU = jacobian(U, argnum = 0)"
   ]
  },
  {
   "cell_type": "code",
   "execution_count": 147,
   "metadata": {},
   "outputs": [],
   "source": [
    "np.random.seed(123)\n",
    "n = 1000\n",
    "x = np.r_[\n",
    "    np.random.normal(mu[0], 1, n),\n",
    "    np.random.normal(mu[1], 1, n)].reshape(-1,1)\n",
    "\n",
    "theta_0 = np.array([0, 0])\n",
    "eps = 0.01\n",
    "V_hat = np.eye(2)\n",
    "C = np.eye(2)\n",
    "niter = 100\n",
    "batch_size = 100"
   ]
  },
  {
   "cell_type": "code",
   "execution_count": 148,
   "metadata": {},
   "outputs": [],
   "source": [
    "sim_mn = sghmc(gradU, eps, C, np.eye(2), theta_0, V_hat, niter, x, batch_size)"
   ]
  },
  {
   "cell_type": "code",
   "execution_count": 149,
   "metadata": {},
   "outputs": [
    {
     "data": {
      "text/plain": [
       "<matplotlib.axes._subplots.AxesSubplot at 0x7fd37248cd30>"
      ]
     },
     "execution_count": 149,
     "metadata": {},
     "output_type": "execute_result"
    },
    {
     "data": {
      "image/png": "[encoded data removed]",
      "text/plain": [
       "<Figure size 432x288 with 1 Axes>"
      ]
     },
     "metadata": {},
     "output_type": "display_data"
    }
   ],
   "source": [
    "sns.kdeplot(sim_mn[0,:],sim_mn[1,:])"
   ]
  },
  {
   "cell_type": "code",
   "execution_count": null,
   "metadata": {},
   "outputs": [],
   "source": []
  }
 ],
 "metadata": {
  "kernelspec": {
   "display_name": "Python 3",
   "language": "python",
   "name": "python3"
  },
  "language_info": {
   "codemirror_mode": {
    "name": "ipython",
    "version": 3
   },
   "file_extension": ".py",
   "mimetype": "text/x-python",
   "name": "python",
   "nbconvert_exporter": "python",
   "pygments_lexer": "ipython3",
   "version": "3.6.10"
  }
 },
 "nbformat": 4,
 "nbformat_minor": 2
}
